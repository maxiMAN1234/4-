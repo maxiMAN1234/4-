{
 "cells": [
  {
   "cell_type": "code",
   "execution_count": 2,
   "id": "2f55ef20",
   "metadata": {},
   "outputs": [],
   "source": [
    "import numpy as np"
   ]
  },
  {
   "cell_type": "markdown",
   "id": "46a937b8",
   "metadata": {},
   "source": [
    "# Одномерные массивы (векторы)"
   ]
  },
  {
   "cell_type": "markdown",
   "id": "0dc7b8e1",
   "metadata": {},
   "source": [
    "## Создание массивов и тип данных в них"
   ]
  },
  {
   "cell_type": "code",
   "execution_count": 3,
   "id": "24eddfce",
   "metadata": {
    "scrolled": true
   },
   "outputs": [
    {
     "name": "stdout",
     "output_type": "stream",
     "text": [
      "[1 2 3 4 5 6 7] <class 'numpy.ndarray'>\n",
      "[1.7 2.  3.  4.  5.9 6.  7. ] <class 'numpy.ndarray'>\n",
      "['1' '2' '3' '4' '5' '6' '7'] <class 'numpy.ndarray'>\n"
     ]
    }
   ],
   "source": [
    "a=np.array([1,2,3,4,5,6,7])#из списка\n",
    "print(a,type(a))\n",
    "\n",
    "b=np.array((1.7,2,3,4,5.9,6,7))#из кортежа\n",
    "print(b,type(b))\n",
    "\n",
    "c=np.array((1,2,3,4,5,6,'7'))#из кортежа\n",
    "print(c,type(a))\n"
   ]
  },
  {
   "cell_type": "markdown",
   "id": "69cd8365",
   "metadata": {},
   "source": [
    "**Numpy массивы приводит данные к одному типу. По умолчанию все значения приводятся к типу float или str. Тип данных можно узнать с помощью атрибута dtype:**\n"
   ]
  },
  {
   "cell_type": "code",
   "execution_count": 4,
   "id": "96501011",
   "metadata": {},
   "outputs": [
    {
     "name": "stdout",
     "output_type": "stream",
     "text": [
      "int32 float64 <U11\n"
     ]
    }
   ],
   "source": [
    "print(a.dtype,b.dtype,c.dtype)"
   ]
  },
  {
   "cell_type": "markdown",
   "id": "8161be97",
   "metadata": {},
   "source": [
    "**Если мы хотим задать свой тип, к которому нужно привести данные, это можно сделать сразу с помощью аргкмента dtype или используя функцию astype()**"
   ]
  },
  {
   "cell_type": "code",
   "execution_count": 5,
   "id": "b7e2b9f4",
   "metadata": {
    "scrolled": true
   },
   "outputs": [
    {
     "name": "stdout",
     "output_type": "stream",
     "text": [
      "[1 4 3]\n",
      "[1 2 3 4 5 6 7]\n"
     ]
    }
   ],
   "source": [
    "c=np.array((1.2,4,'3'),dtype=int)\n",
    "print(c)\n",
    "\n",
    "print(b.astype(int))"
   ]
  },
  {
   "cell_type": "markdown",
   "id": "c8d7b04e",
   "metadata": {},
   "source": [
    "**Можно создавать массивы, заполненные нулями(np.zeros) или единицами(np.ones). Часто лучше сначала создать такой массив, а потом присваивать значения его элементам:**"
   ]
  },
  {
   "cell_type": "code",
   "execution_count": 6,
   "id": "12698b54",
   "metadata": {},
   "outputs": [
    {
     "name": "stdout",
     "output_type": "stream",
     "text": [
      "[0. 0. 0.]\n",
      "[1 1 1]\n"
     ]
    }
   ],
   "source": [
    "z=np.zeros(3) \n",
    "o=np.ones(3,dtype=np.int64)\n",
    "print(z)\n",
    "print(o)"
   ]
  },
  {
   "cell_type": "markdown",
   "id": "b5d6b467",
   "metadata": {},
   "source": [
    "**Если нужно создать массив, заполненный нулями, длины и типа другого массива, то можно использовать конструкцию:**"
   ]
  },
  {
   "cell_type": "code",
   "execution_count": 7,
   "id": "f39a00bc",
   "metadata": {},
   "outputs": [
    {
     "data": {
      "text/plain": [
       "array([0, 0, 0, 0, 0, 0, 0])"
      ]
     },
     "execution_count": 7,
     "metadata": {},
     "output_type": "execute_result"
    }
   ],
   "source": [
    "np.zeros_like(a)"
   ]
  },
  {
   "cell_type": "markdown",
   "id": "2bb46e90",
   "metadata": {},
   "source": [
    "**Можно создавать массивы с постоянным шагом с помощью функции *linspace(x,y,z)*, где x-начальное значение, y-конечное значение, а z-число элементов:**"
   ]
  },
  {
   "cell_type": "code",
   "execution_count": 8,
   "id": "324176f5",
   "metadata": {},
   "outputs": [
    {
     "name": "stdout",
     "output_type": "stream",
     "text": [
      "[ 0.   2.5  5.   7.5 10. ]\n"
     ]
    }
   ],
   "source": [
    "l=np.linspace(0,10,5)\n",
    "print(l)"
   ]
  },
  {
   "cell_type": "markdown",
   "id": "523b537b",
   "metadata": {},
   "source": [
    "## Размер\n"
   ]
  },
  {
   "cell_type": "markdown",
   "id": "b997849d",
   "metadata": {},
   "source": [
    "**ndim-возвращает размерность массива ndrray(a=np.array([1,2,3,4,5,6,7])**"
   ]
  },
  {
   "cell_type": "code",
   "execution_count": 9,
   "id": "b9fabb14",
   "metadata": {},
   "outputs": [
    {
     "data": {
      "text/plain": [
       "1"
      ]
     },
     "execution_count": 9,
     "metadata": {},
     "output_type": "execute_result"
    }
   ],
   "source": [
    "a.ndim"
   ]
  },
  {
   "cell_type": "markdown",
   "id": "a52cbe3a",
   "metadata": {},
   "source": [
    "**shape-возвращает число элементов массива с помощью кортежа натуральных чисел, показывающем длину массива по каждой оси. Число элементов в shape равно значению в ndim:**"
   ]
  },
  {
   "cell_type": "code",
   "execution_count": 10,
   "id": "760fa4bd",
   "metadata": {},
   "outputs": [
    {
     "data": {
      "text/plain": [
       "(7,)"
      ]
     },
     "execution_count": 10,
     "metadata": {},
     "output_type": "execute_result"
    }
   ],
   "source": [
    "a.shape"
   ]
  },
  {
   "cell_type": "markdown",
   "id": "0b29894c",
   "metadata": {},
   "source": [
    "**size-число всех элементов массива. Равно произведению всех элементов атрибута shape:**"
   ]
  },
  {
   "cell_type": "code",
   "execution_count": 11,
   "id": "f172e501",
   "metadata": {},
   "outputs": [
    {
     "data": {
      "text/plain": [
       "7"
      ]
     },
     "execution_count": 11,
     "metadata": {},
     "output_type": "execute_result"
    }
   ],
   "source": [
    "a.size"
   ]
  },
  {
   "cell_type": "markdown",
   "id": "b2a0b326",
   "metadata": {},
   "source": [
    "**len - функция определяет количество элементов в объекте. Если a.ndim больше 1, то выводит количество столбцов:**"
   ]
  },
  {
   "cell_type": "code",
   "execution_count": 12,
   "id": "596c3aaa",
   "metadata": {},
   "outputs": [
    {
     "data": {
      "text/plain": [
       "7"
      ]
     },
     "execution_count": 12,
     "metadata": {},
     "output_type": "execute_result"
    }
   ],
   "source": [
    "len(a)"
   ]
  },
  {
   "cell_type": "markdown",
   "id": "a07aaf6b",
   "metadata": {},
   "source": [
    "## Индексация\n"
   ]
  },
  {
   "cell_type": "markdown",
   "id": "736ac9b1",
   "metadata": {},
   "source": [
    "**Получить элементы массива можно по индексу:**"
   ]
  },
  {
   "cell_type": "code",
   "execution_count": 13,
   "id": "ddc85a2c",
   "metadata": {},
   "outputs": [
    {
     "data": {
      "text/plain": [
       "1"
      ]
     },
     "execution_count": 13,
     "metadata": {},
     "output_type": "execute_result"
    }
   ],
   "source": [
    "a[0]"
   ]
  },
  {
   "cell_type": "markdown",
   "id": "b1f67cc6",
   "metadata": {},
   "source": [
    "**Также можно использовать срезы:**"
   ]
  },
  {
   "cell_type": "code",
   "execution_count": 14,
   "id": "99091360",
   "metadata": {},
   "outputs": [
    {
     "data": {
      "text/plain": [
       "array([3, 4, 5])"
      ]
     },
     "execution_count": 14,
     "metadata": {},
     "output_type": "execute_result"
    }
   ],
   "source": [
    "a[2:5] #берутся элементы с индексами 2,3,4 т.e. [a[2], a[3], a[4]]"
   ]
  },
  {
   "cell_type": "code",
   "execution_count": 15,
   "id": "753833f7",
   "metadata": {},
   "outputs": [
    {
     "data": {
      "text/plain": [
       "array([1, 2])"
      ]
     },
     "execution_count": 15,
     "metadata": {},
     "output_type": "execute_result"
    }
   ],
   "source": [
    "a[:2] #берутся элементы с индексами строго меньше 2, т.е. [a[0],a[1]]"
   ]
  },
  {
   "cell_type": "code",
   "execution_count": 16,
   "id": "834872bb",
   "metadata": {},
   "outputs": [
    {
     "data": {
      "text/plain": [
       "array([3, 4, 5, 6, 7])"
      ]
     },
     "execution_count": 16,
     "metadata": {},
     "output_type": "execute_result"
    }
   ],
   "source": [
    "a[2:] #берутся элементы большими или равными 2 т.е. [a[2],a[3],a[4],...,a[n]]"
   ]
  },
  {
   "cell_type": "code",
   "execution_count": 17,
   "id": "bae11b1c",
   "metadata": {},
   "outputs": [
    {
     "data": {
      "text/plain": [
       "7"
      ]
     },
     "execution_count": 17,
     "metadata": {},
     "output_type": "execute_result"
    }
   ],
   "source": [
    "a[-1] #берется последний элемент"
   ]
  },
  {
   "cell_type": "markdown",
   "id": "4ee959aa",
   "metadata": {},
   "source": [
    "**Диапозон с шагом 2:**"
   ]
  },
  {
   "cell_type": "code",
   "execution_count": 18,
   "id": "3b0a4518",
   "metadata": {},
   "outputs": [
    {
     "data": {
      "text/plain": [
       "array([1, 3, 5])"
      ]
     },
     "execution_count": 18,
     "metadata": {},
     "output_type": "execute_result"
    }
   ],
   "source": [
    "a[0:5:2] #a[x:y:z] где x-начальное значение, y-последнее заданное значение, а z-шаг"
   ]
  },
  {
   "cell_type": "markdown",
   "id": "d917e9be",
   "metadata": {},
   "source": [
    "**Массивы можно изменять, задавая значение:**"
   ]
  },
  {
   "cell_type": "code",
   "execution_count": 19,
   "id": "986f48cf",
   "metadata": {},
   "outputs": [
    {
     "name": "stdout",
     "output_type": "stream",
     "text": [
      "[1 9 3 4 5 6 7]\n"
     ]
    }
   ],
   "source": [
    "a[1]=9\n",
    "print(a)"
   ]
  },
  {
   "cell_type": "markdown",
   "id": "0534ad98",
   "metadata": {},
   "source": [
    "**Чтобы скопировать данные данные массива, нужно использовать метод copy()**"
   ]
  },
  {
   "cell_type": "code",
   "execution_count": 20,
   "id": "10cb3fb4",
   "metadata": {},
   "outputs": [
    {
     "name": "stdout",
     "output_type": "stream",
     "text": [
      "[1 9 3 4 5 6 7]\n",
      "[1 9 9 4 5 6 7]\n"
     ]
    }
   ],
   "source": [
    "d=a.copy()\n",
    "d[2]=9\n",
    "print(a)\n",
    "print(d)"
   ]
  },
  {
   "cell_type": "markdown",
   "id": "5a9ffc51",
   "metadata": {},
   "source": [
    "**Массивы можно использовать в for циклах**"
   ]
  },
  {
   "cell_type": "code",
   "execution_count": 21,
   "id": "59217f50",
   "metadata": {},
   "outputs": [
    {
     "name": "stdout",
     "output_type": "stream",
     "text": [
      "1\n",
      "9\n",
      "3\n",
      "4\n",
      "5\n",
      "6\n",
      "7\n"
     ]
    }
   ],
   "source": [
    "for i in a:\n",
    "    print(i)"
   ]
  },
  {
   "cell_type": "markdown",
   "id": "30d7420d",
   "metadata": {},
   "source": [
    "## Нахождение уникальных значений"
   ]
  },
  {
   "cell_type": "markdown",
   "id": "6fdb31f4",
   "metadata": {},
   "source": [
    "**Функция unique() находит уникальные элементы массива и возвращает их в отсортированном массиве**"
   ]
  },
  {
   "cell_type": "code",
   "execution_count": 22,
   "id": "a50939e4",
   "metadata": {},
   "outputs": [
    {
     "data": {
      "text/plain": [
       "(array([1, 4, 5, 6, 7, 9]), array([1, 1, 1, 1, 1, 2], dtype=int64))"
      ]
     },
     "execution_count": 22,
     "metadata": {},
     "output_type": "execute_result"
    }
   ],
   "source": [
    "\n",
    "np.unique(d,return_counts=True)#return_counts=True кол-во вхождений"
   ]
  },
  {
   "cell_type": "markdown",
   "id": "fa3a7481",
   "metadata": {},
   "source": [
    "## Математические операции над одномерными ndarray-массивами"
   ]
  },
  {
   "cell_type": "markdown",
   "id": "ccbb07f5",
   "metadata": {},
   "source": [
    "**Зададим два одномерных массива**"
   ]
  },
  {
   "cell_type": "code",
   "execution_count": 23,
   "id": "8199b42a",
   "metadata": {},
   "outputs": [],
   "source": [
    "p=np.array([0,-1,4,3,-2])\n",
    "q=np.array([2,4,-2,1,3])"
   ]
  },
  {
   "cell_type": "markdown",
   "id": "7be96ab8",
   "metadata": {},
   "source": [
    "**Арифметические операции проводятся поэлементно**"
   ]
  },
  {
   "cell_type": "code",
   "execution_count": 24,
   "id": "a6dc7bb5",
   "metadata": {},
   "outputs": [
    {
     "name": "stdout",
     "output_type": "stream",
     "text": [
      "[2 3 2 4 1]\n",
      "[-2 -5  6  2 -5]\n",
      "[ 0 -4 -8  3 -6]\n",
      "[ 0.         -0.25       -2.          3.         -0.66666667]\n",
      "[ 0  1 16  9  4]\n",
      "[ 1  0  5  4 -1] [ 1  3 -3  0  2]\n"
     ]
    }
   ],
   "source": [
    "print(p+q)  #или np.add(p,q)\n",
    "print(p-q)\n",
    "print(p*q)\n",
    "print(p/q)\n",
    "print(p**2)\n",
    "\n",
    "print(p+1,q-1) #можно прибавлять скаляр"
   ]
  },
  {
   "cell_type": "markdown",
   "id": "bc6f1ba2",
   "metadata": {},
   "source": [
    "**Математические функции**"
   ]
  },
  {
   "cell_type": "code",
   "execution_count": 25,
   "id": "bea41b05",
   "metadata": {},
   "outputs": [
    {
     "name": "stdout",
     "output_type": "stream",
     "text": [
      "[ 0.90929743 -0.7568025  -0.90929743  0.84147098  0.14112001]\n",
      "[1.41421356 2.                nan 1.         1.73205081]\n",
      "[ 7.3890561  54.59815003  0.13533528  2.71828183 20.08553692]\n",
      "[0.69314718 1.38629436        nan 0.         1.09861229]\n",
      "[-2.18503986  1.15782128  2.18503986  1.55740772 -0.14254654]\n",
      "e= 2.718281828459045 pi= 3.141592653589793\n"
     ]
    },
    {
     "name": "stderr",
     "output_type": "stream",
     "text": [
      "<ipython-input-25-f08020d9b584>:2: RuntimeWarning: invalid value encountered in sqrt\n",
      "  print(np.sqrt(q))\n",
      "<ipython-input-25-f08020d9b584>:4: RuntimeWarning: invalid value encountered in log\n",
      "  print(np.log(q))\n"
     ]
    }
   ],
   "source": [
    "print(np.sin(q))\n",
    "print(np.sqrt(q))\n",
    "print(np.exp(q))\n",
    "print(np.log(q))\n",
    "print(np.tan(q))\n",
    "\n",
    "print('e=',np.e, 'pi=',np.pi) "
   ]
  },
  {
   "cell_type": "markdown",
   "id": "a3ed8754",
   "metadata": {},
   "source": [
    "**Сумма, произведение (всех элементов массива), максимальный, минимальный элемент, среднее и среднеквадратичное отклонение (p=np.array([0,-1,4,3,-2])):**"
   ]
  },
  {
   "cell_type": "code",
   "execution_count": 26,
   "id": "0c8a5db3",
   "metadata": {},
   "outputs": [
    {
     "data": {
      "text/plain": [
       "(4, 0, 4, -2, 0.8, 2.3151673805580453)"
      ]
     },
     "execution_count": 26,
     "metadata": {},
     "output_type": "execute_result"
    }
   ],
   "source": [
    "p.sum(), p.prod(),     p.max(),      p.min(),     p.mean(), p.std()\n",
    "#cумма   произведение  максимальное  минимальное  среднее   среднеквадратичное"
   ]
  },
  {
   "cell_type": "markdown",
   "id": "4b346e57",
   "metadata": {},
   "source": [
    "**Сравнение дают булевые массивы:**"
   ]
  },
  {
   "cell_type": "code",
   "execution_count": 27,
   "id": "f0cc4ec6",
   "metadata": {},
   "outputs": [
    {
     "name": "stdout",
     "output_type": "stream",
     "text": [
      "[ True  True False False  True]\n",
      "[False False False False False]\n",
      "[False False False False False]\n"
     ]
    }
   ],
   "source": [
    "print(p<q)\n",
    "print(p==q)\n",
    "print(q>5)"
   ]
  },
  {
   "cell_type": "markdown",
   "id": "aa966af6",
   "metadata": {},
   "source": [
    "## Сортировка и изменение"
   ]
  },
  {
   "cell_type": "markdown",
   "id": "0366bae1",
   "metadata": {},
   "source": [
    "**Сортировка**"
   ]
  },
  {
   "cell_type": "code",
   "execution_count": 28,
   "id": "23a52caa",
   "metadata": {},
   "outputs": [
    {
     "data": {
      "text/plain": [
       "array([-2, -1,  0,  3,  4])"
      ]
     },
     "execution_count": 28,
     "metadata": {},
     "output_type": "execute_result"
    }
   ],
   "source": [
    "np.sort(p)"
   ]
  },
  {
   "cell_type": "markdown",
   "id": "d72081ec",
   "metadata": {},
   "source": [
    "**Объединение**"
   ]
  },
  {
   "cell_type": "code",
   "execution_count": 29,
   "id": "d9f244d2",
   "metadata": {},
   "outputs": [
    {
     "data": {
      "text/plain": [
       "array([ 0, -1,  4,  3, -2,  1,  3,  2])"
      ]
     },
     "execution_count": 29,
     "metadata": {},
     "output_type": "execute_result"
    }
   ],
   "source": [
    "np.append(p,[1,3,2]) # выводит первый массив, добавляя новые элементы в конец"
   ]
  },
  {
   "cell_type": "code",
   "execution_count": 30,
   "id": "08f15788",
   "metadata": {},
   "outputs": [
    {
     "data": {
      "text/plain": [
       "array([ 0, -1,  4,  3, -2,  2,  4, -2,  1,  3])"
      ]
     },
     "execution_count": 30,
     "metadata": {},
     "output_type": "execute_result"
    }
   ],
   "source": [
    "np.append(p,q) #соединение двух массивов"
   ]
  },
  {
   "cell_type": "markdown",
   "id": "8fce8fd3",
   "metadata": {},
   "source": [
    "**Удаление(p=np.array([0,-1,4,3,-2]))**"
   ]
  },
  {
   "cell_type": "code",
   "execution_count": 31,
   "id": "0020e4bd",
   "metadata": {},
   "outputs": [
    {
     "data": {
      "text/plain": [
       "array([-1,  3, -2])"
      ]
     },
     "execution_count": 31,
     "metadata": {},
     "output_type": "execute_result"
    }
   ],
   "source": [
    "np.delete(p,[0,2]) #удаляет элементы по индексу"
   ]
  },
  {
   "cell_type": "markdown",
   "id": "441fb197",
   "metadata": {},
   "source": [
    "**Вставка**"
   ]
  },
  {
   "cell_type": "code",
   "execution_count": 32,
   "id": "05894e42",
   "metadata": {},
   "outputs": [
    {
     "data": {
      "text/plain": [
       "array([ 0, -1, -5, 11,  4,  3, -2])"
      ]
     },
     "execution_count": 32,
     "metadata": {},
     "output_type": "execute_result"
    }
   ],
   "source": [
    "np.insert(p,2,[-5,11]) #в вектор р на место с индексом 2 вставить элементы "
   ]
  },
  {
   "cell_type": "markdown",
   "id": "65520dd6",
   "metadata": {},
   "source": [
    "**Функция np.dot(как и метод a.dot), вычисляет скалярное произведение векторов, а также произведение матриц**"
   ]
  },
  {
   "cell_type": "code",
   "execution_count": 33,
   "id": "de2e26cf",
   "metadata": {},
   "outputs": [
    {
     "name": "stdout",
     "output_type": "stream",
     "text": [
      "[ 0 -1  4  3 -2]\n",
      "[ 2  4 -2  1  3]\n",
      "-15\n"
     ]
    }
   ],
   "source": [
    "scalar=p.dot(q)\n",
    "print(p)\n",
    "print(q)\n",
    "print(scalar)"
   ]
  },
  {
   "cell_type": "markdown",
   "id": "488c6e68",
   "metadata": {},
   "source": [
    "# Двумерные массивы (матрицы)"
   ]
  },
  {
   "cell_type": "markdown",
   "id": "5c8b792b",
   "metadata": {},
   "source": [
    "## Создание,тип"
   ]
  },
  {
   "cell_type": "code",
   "execution_count": 34,
   "id": "c9abad36",
   "metadata": {},
   "outputs": [
    {
     "name": "stdout",
     "output_type": "stream",
     "text": [
      "[[ 1  2  3  4]\n",
      " [ 5  6  7  8]\n",
      " [ 9 10 11 12]]\n",
      "[[ 0. -1.]\n",
      " [ 1.  0.]]\n"
     ]
    }
   ],
   "source": [
    "A=np.array([[1,2,3,4],\n",
    "          [5,6,7,8],\n",
    "          [9,10,11,12]])\n",
    "print(A)\n",
    "\n",
    "B=np.array([[0.0,-1.0],[1.0,0.0]])\n",
    "print(B)"
   ]
  },
  {
   "cell_type": "code",
   "execution_count": 68,
   "id": "fe2f4b8a",
   "metadata": {},
   "outputs": [
    {
     "data": {
      "text/plain": [
       "(dtype('int32'), dtype('float64'))"
      ]
     },
     "execution_count": 68,
     "metadata": {},
     "output_type": "execute_result"
    }
   ],
   "source": [
    "A.dtype,B.dtype"
   ]
  },
  {
   "cell_type": "markdown",
   "id": "119379d7",
   "metadata": {},
   "source": [
    "**Единичная матрица**"
   ]
  },
  {
   "cell_type": "code",
   "execution_count": 69,
   "id": "6b16b043",
   "metadata": {},
   "outputs": [
    {
     "name": "stdout",
     "output_type": "stream",
     "text": [
      "[[1. 0. 0. 0.]\n",
      " [0. 1. 0. 0.]\n",
      " [0. 0. 1. 0.]]\n"
     ]
    }
   ],
   "source": [
    "I=np.eye(3,4)#(cтолбцы, строки)\n",
    "print(I)"
   ]
  },
  {
   "cell_type": "markdown",
   "id": "4ad77602",
   "metadata": {},
   "source": [
    "**Размерномть**"
   ]
  },
  {
   "cell_type": "code",
   "execution_count": 75,
   "id": "92a297d3",
   "metadata": {},
   "outputs": [
    {
     "name": "stdout",
     "output_type": "stream",
     "text": [
      "Размерность: 2\n",
      "Форма:(3, 4)\n",
      "Общее количество элементов:12\n"
     ]
    }
   ],
   "source": [
    "print(\"Размерность: {}\" .format(A.ndim)) \n",
    "print('Форма:{}' .format(A.shape))\n",
    "print('Общее количество элементов:{}'.format(A.size))   #A.ndim сколькомерный"
   ]
  },
  {
   "cell_type": "markdown",
   "id": "0f992080",
   "metadata": {},
   "source": [
    "**Можно растянуть в одномерный массив:**"
   ]
  },
  {
   "cell_type": "code",
   "execution_count": 76,
   "id": "0dcd5123",
   "metadata": {},
   "outputs": [
    {
     "data": {
      "text/plain": [
       "array([ 0., -1.,  1.,  0.])"
      ]
     },
     "execution_count": 76,
     "metadata": {},
     "output_type": "execute_result"
    }
   ],
   "source": [
    "B.ravel()"
   ]
  },
  {
   "cell_type": "markdown",
   "id": "86b4455e",
   "metadata": {},
   "source": [
    "**Или при помощи reshape:**"
   ]
  },
  {
   "cell_type": "code",
   "execution_count": 79,
   "id": "82a4f114",
   "metadata": {},
   "outputs": [
    {
     "data": {
      "text/plain": [
       "array([ 0., -1.,  1.,  0.])"
      ]
     },
     "execution_count": 79,
     "metadata": {},
     "output_type": "execute_result"
    }
   ],
   "source": [
    "B.reshape(4)"
   ]
  },
  {
   "cell_type": "markdown",
   "id": "1cf9bc52",
   "metadata": {},
   "source": [
    "**Можно из одномерного сделать двумерный:**"
   ]
  },
  {
   "cell_type": "code",
   "execution_count": 81,
   "id": "95aad606",
   "metadata": {},
   "outputs": [
    {
     "name": "stdout",
     "output_type": "stream",
     "text": [
      "[0. 1. 2. 3. 4. 5.]\n"
     ]
    }
   ],
   "source": [
    "C=np.linspace(0,5,6) #создание массива(начальный элемент, конечный элемент, количество элементов)\n",
    "print(C)"
   ]
  },
  {
   "cell_type": "code",
   "execution_count": 82,
   "id": "09a4fff7",
   "metadata": {},
   "outputs": [
    {
     "data": {
      "text/plain": [
       "(6,)"
      ]
     },
     "execution_count": 82,
     "metadata": {},
     "output_type": "execute_result"
    }
   ],
   "source": [
    "C.shape"
   ]
  },
  {
   "cell_type": "code",
   "execution_count": 83,
   "id": "7f8bc577",
   "metadata": {},
   "outputs": [
    {
     "name": "stdout",
     "output_type": "stream",
     "text": [
      "[[0. 1. 2.]\n",
      " [3. 4. 5.]]\n"
     ]
    }
   ],
   "source": [
    "C.shape=2,3\n",
    "print(C)"
   ]
  },
  {
   "cell_type": "markdown",
   "id": "758dda37",
   "metadata": {},
   "source": [
    "**Или с помщью reshape()**"
   ]
  },
  {
   "cell_type": "code",
   "execution_count": 86,
   "id": "90d2d1c9",
   "metadata": {},
   "outputs": [
    {
     "data": {
      "text/plain": [
       "array([[0., 1., 2.],\n",
       "       [3., 4., 5.]])"
      ]
     },
     "execution_count": 86,
     "metadata": {},
     "output_type": "execute_result"
    }
   ],
   "source": [
    "C.reshape(2,3)"
   ]
  },
  {
   "cell_type": "code",
   "execution_count": 44,
   "id": "2f69230d",
   "metadata": {},
   "outputs": [
    {
     "data": {
      "text/plain": [
       "array([[ 1.   ,  3.375,  5.75 ],\n",
       "       [ 8.125, 10.5  , 12.875],\n",
       "       [15.25 , 17.625, 20.   ]])"
      ]
     },
     "execution_count": 44,
     "metadata": {},
     "output_type": "execute_result"
    }
   ],
   "source": [
    "T=np.linspace(1,20,9)\n",
    "T.reshape(3,3)"
   ]
  },
  {
   "cell_type": "markdown",
   "id": "1e7137e7",
   "metadata": {},
   "source": [
    "## Индексация"
   ]
  },
  {
   "cell_type": "markdown",
   "id": "9a4decb8",
   "metadata": {},
   "source": [
    "**Получение элемента массива[строка, столбец]**"
   ]
  },
  {
   "cell_type": "code",
   "execution_count": 93,
   "id": "a080736a",
   "metadata": {},
   "outputs": [
    {
     "data": {
      "text/plain": [
       "(2, 11)"
      ]
     },
     "execution_count": 93,
     "metadata": {},
     "output_type": "execute_result"
    }
   ],
   "source": [
    "A[0,1], A[2,2] #A=np.array([[1,2,3,4],\n",
    "                   #[5,6,7,8],\n",
    "                   #[9,10,11,12]])"
   ]
  },
  {
   "cell_type": "markdown",
   "id": "b36ae2b5",
   "metadata": {},
   "source": [
    "**Строка**"
   ]
  },
  {
   "cell_type": "code",
   "execution_count": 94,
   "id": "6e2076e9",
   "metadata": {},
   "outputs": [
    {
     "data": {
      "text/plain": [
       "array([1, 2, 3, 4])"
      ]
     },
     "execution_count": 94,
     "metadata": {},
     "output_type": "execute_result"
    }
   ],
   "source": [
    "A[0]"
   ]
  },
  {
   "cell_type": "markdown",
   "id": "1d5a9efc",
   "metadata": {},
   "source": [
    "**Столбец**"
   ]
  },
  {
   "cell_type": "code",
   "execution_count": 95,
   "id": "cba6a2ec",
   "metadata": {},
   "outputs": [
    {
     "data": {
      "text/plain": [
       "array([1, 5, 9])"
      ]
     },
     "execution_count": 95,
     "metadata": {},
     "output_type": "execute_result"
    }
   ],
   "source": [
    "A[:,0]"
   ]
  },
  {
   "cell_type": "markdown",
   "id": "587cab4f",
   "metadata": {},
   "source": [
    "**Срезы (подматрицы)**"
   ]
  },
  {
   "cell_type": "code",
   "execution_count": 100,
   "id": "856c64c1",
   "metadata": {},
   "outputs": [
    {
     "data": {
      "text/plain": [
       "array([[ 5,  6,  7],\n",
       "       [ 9, 10, 11]])"
      ]
     },
     "execution_count": 100,
     "metadata": {},
     "output_type": "execute_result"
    }
   ],
   "source": [
    "A[1:,:3] #[строка:, :столбец]"
   ]
  },
  {
   "cell_type": "code",
   "execution_count": 103,
   "id": "97ab458e",
   "metadata": {},
   "outputs": [
    {
     "data": {
      "text/plain": [
       "array([[ 9, 10]])"
      ]
     },
     "execution_count": 103,
     "metadata": {},
     "output_type": "execute_result"
    }
   ],
   "source": [
    "A[2:,:2]"
   ]
  },
  {
   "cell_type": "code",
   "execution_count": 101,
   "id": "68c9946a",
   "metadata": {},
   "outputs": [
    {
     "data": {
      "text/plain": [
       "array([[ 7,  8],\n",
       "       [11, 12]])"
      ]
     },
     "execution_count": 101,
     "metadata": {},
     "output_type": "execute_result"
    }
   ],
   "source": [
    "A[1:3,2:4]"
   ]
  },
  {
   "cell_type": "markdown",
   "id": "50b630fd",
   "metadata": {},
   "source": [
    "**Цикл по строкам**"
   ]
  },
  {
   "cell_type": "code",
   "execution_count": 104,
   "id": "4c9aed62",
   "metadata": {},
   "outputs": [
    {
     "name": "stdout",
     "output_type": "stream",
     "text": [
      "[ 0. -1.]\n",
      "[1. 0.]\n"
     ]
    }
   ],
   "source": [
    "for row in B:\n",
    "    print(row)"
   ]
  },
  {
   "cell_type": "markdown",
   "id": "92b7bac2",
   "metadata": {},
   "source": [
    "## Математические операции над двумерными ndarray-массивами\n"
   ]
  },
  {
   "cell_type": "code",
   "execution_count": 105,
   "id": "5a8d724f",
   "metadata": {},
   "outputs": [],
   "source": [
    "A1=np.array([[0,1],\n",
    "            [2,3],\n",
    "            [4,5]])\n",
    "A2=np.array([[6,7],\n",
    "            [8,9],\n",
    "            [10,11]])"
   ]
  },
  {
   "cell_type": "code",
   "execution_count": 106,
   "id": "24e84595",
   "metadata": {},
   "outputs": [
    {
     "name": "stdout",
     "output_type": "stream",
     "text": [
      "[[ 6  8]\n",
      " [10 12]\n",
      " [14 16]]\n",
      "[[ 0 -1]\n",
      " [-2 -3]\n",
      " [-4 -5]]\n",
      "[[0 2 4]\n",
      " [1 3 5]]\n",
      "[[ 7 33 59]\n",
      " [ 9 43 77]\n",
      " [11 53 95]]\n"
     ]
    }
   ],
   "source": [
    "print(A1+A2)#сложение\n",
    "print(np.dot(A1,-1))#умножение на число\n",
    "print(A1.T)#Транспонирование или так: A1.transpose()\n",
    "print(A2.dot(A1.T))#Умножение матриц способ №1"
   ]
  },
  {
   "cell_type": "code",
   "execution_count": 107,
   "id": "62a20c01",
   "metadata": {},
   "outputs": [
    {
     "name": "stdout",
     "output_type": "stream",
     "text": [
      "[[ 7 33 59]\n",
      " [ 9 43 77]\n",
      " [11 53 95]]\n"
     ]
    }
   ],
   "source": [
    "print(A2@(A1.T))#умножение матриц способ №2"
   ]
  },
  {
   "cell_type": "markdown",
   "id": "e5f1c065",
   "metadata": {},
   "source": [
    "**Cуммы элементов:**"
   ]
  },
  {
   "cell_type": "code",
   "execution_count": 108,
   "id": "83d7e166",
   "metadata": {},
   "outputs": [
    {
     "name": "stdout",
     "output_type": "stream",
     "text": [
      "15\n",
      "[6 9]\n",
      "[1 5 9]\n"
     ]
    }
   ],
   "source": [
    "print(A1.sum()) #сумма всех элементов\n",
    "print(A1.sum(axis=0)) #Суммы столбцов\n",
    "print(A1.sum(axis=1)) #Cуммы строк"
   ]
  },
  {
   "cell_type": "markdown",
   "id": "3b2c20be",
   "metadata": {},
   "source": [
    "**Аналагично работают prod, max, min и т.д**"
   ]
  },
  {
   "cell_type": "code",
   "execution_count": 109,
   "id": "c3bbf371",
   "metadata": {},
   "outputs": [
    {
     "name": "stdout",
     "output_type": "stream",
     "text": [
      "11\n",
      "[10 11]\n",
      "[ 6  8 10]\n"
     ]
    }
   ],
   "source": [
    "print(A2.max())\n",
    "print(A2.max(axis=0))\n",
    "print(A2.min(axis=1))"
   ]
  },
  {
   "cell_type": "markdown",
   "id": "22a6cb1f",
   "metadata": {},
   "source": [
    "**Можно вычислять понятия из линейной алгебры:**"
   ]
  },
  {
   "cell_type": "code",
   "execution_count": 115,
   "id": "9672ab64",
   "metadata": {},
   "outputs": [
    {
     "name": "stdout",
     "output_type": "stream",
     "text": [
      "9\n",
      "-2.0\n",
      "3\n",
      "[[-1.5  0.5  0. ]\n",
      " [ 0.   2.  -1. ]\n",
      " [ 1.  -2.   1. ]]\n"
     ]
    }
   ],
   "source": [
    "D=np.array([[0,1,1],\n",
    "           [2,3,3],\n",
    "           [4,5,6]])\n",
    "print(np.trace(D)) #след - сумма диагональных элементов\n",
    "print(np.linalg.det(D)) #определитель\n",
    "print(np.linalg.matrix_rank(D)) #ранг\n",
    "print(np.linalg.inv(D))#обращение к матрице"
   ]
  },
  {
   "cell_type": "markdown",
   "id": "ae993cc0",
   "metadata": {},
   "source": [
    "# Графическая визуализация данных"
   ]
  }
 ],
 "metadata": {
  "kernelspec": {
   "display_name": "Python 3",
   "language": "python",
   "name": "python3"
  },
  "language_info": {
   "codemirror_mode": {
    "name": "ipython",
    "version": 3
   },
   "file_extension": ".py",
   "mimetype": "text/x-python",
   "name": "python",
   "nbconvert_exporter": "python",
   "pygments_lexer": "ipython3",
   "version": "3.8.8"
  }
 },
 "nbformat": 4,
 "nbformat_minor": 5
}
